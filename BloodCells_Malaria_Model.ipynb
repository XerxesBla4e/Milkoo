{
 "cells": [
  {
   "cell_type": "code",
   "execution_count": 1,
   "id": "cd4afac0",
   "metadata": {},
   "outputs": [],
   "source": [
    "import numpy as np\n",
    "np.random.seed(1000)\n",
    "\n",
    "import cv2\n",
    "import os\n",
    "from PIL import Image \n",
    "import keras"
   ]
  },
  {
   "cell_type": "code",
   "execution_count": 29,
   "id": "35366425",
   "metadata": {},
   "outputs": [],
   "source": [
    "IMAGE_SIZE = 64\n",
    "\n",
    "image_directory =  'E:/datasets/AtopicDemaDataset/'\n",
    "extensions = ['jpg','png','jpeg']\n",
    "dataset = []\n",
    "label = []"
   ]
  },
  {
   "cell_type": "code",
   "execution_count": 31,
   "id": "74c7b5e9",
   "metadata": {},
   "outputs": [],
   "source": [
    "infected_images = os.listdir(image_directory+ 'Infected/')\n",
    "for i, image_name in enumerate(infected_images):\n",
    "    real_extension = image_name.split('.')[1]\n",
    "    if real_extension in extensions:\n",
    "        image = cv2.imread(image_directory+ 'Infected/' + image_name)\n",
    "        image = Image.fromarray(image, 'RGB')\n",
    "        image = image.resize((IMAGE_SIZE,IMAGE_SIZE))\n",
    "        dataset.append(np.array(image))\n",
    "        label.append(0)"
   ]
  },
  {
   "cell_type": "code",
   "execution_count": 33,
   "id": "b6d5c337",
   "metadata": {},
   "outputs": [],
   "source": [
    "Uninfected_images = os.listdir(image_directory+ 'Uninfected/')\n",
    "for i, image_name in enumerate(Uninfected_images):\n",
    "    real_extension = image_name.split('.')[1]\n",
    "    if real_extension in extensions:\n",
    "        image = cv2.imread(image_directory+ 'Uninfected/' + image_name)\n",
    "        image = Image.fromarray(image, 'RGB')\n",
    "        image = image.resize((IMAGE_SIZE,IMAGE_SIZE))\n",
    "        dataset.append(np.array(image))\n",
    "        label.append(1)"
   ]
  },
  {
   "cell_type": "code",
   "execution_count": 4,
   "id": "a2f98a3a",
   "metadata": {},
   "outputs": [],
   "source": [
    "os.environ['KERAS_BACKEND'] = 'tensorflow'"
   ]
  },
  {
   "cell_type": "code",
   "execution_count": 30,
   "id": "ca2ba823",
   "metadata": {},
   "outputs": [],
   "source": [
    "INPUT_SHAPE = (IMAGE_SIZE,IMAGE_SIZE,3)\n",
    "inp = keras.layers.Input(shape=INPUT_SHAPE)"
   ]
  },
  {
   "cell_type": "code",
   "execution_count": 10,
   "id": "78b5d999",
   "metadata": {},
   "outputs": [],
   "source": [
    "conv1 = keras.layers.Conv2D(32, (3,3), activation='relu', padding='same')(inp)\n",
    "\n",
    "pool1 = keras.layers.MaxPooling2D(pool_size=(2,2))(conv1)\n",
    "norm1 = keras.layers.BatchNormalization(axis = -1)(pool1)\n",
    "drop1 = keras.layers.Dropout(rate=0.2)(norm1)\n",
    "\n",
    "conv2 = keras.layers.Conv2D(32, (3,3), activation='relu', padding='same')(drop1)\n",
    "\n",
    "pool2 = keras.layers.MaxPooling2D(pool_size=(2,2))(conv2)\n",
    "norm2 = keras.layers.BatchNormalization(axis = -1)(pool2)\n",
    "drop2 = keras.layers.Dropout(rate=0.2)(norm2)\n",
    "\n",
    "flat = keras.layers.Flatten()(drop2)#flatten the matrix to get it ready for dense layer\n",
    "\n",
    "hidden1 = keras.layers.Dense(512, activation='relu')(flat)\n",
    "norm3 = keras.layers.BatchNormalization(axis = -1)(hidden1)\n",
    "drop3 = keras.layers.Dropout(rate=0.2)(norm3)\n",
    "\n",
    "hidden2 = keras.layers.Dense(256, activation='relu')(drop3)\n",
    "norm4 = keras.layers.BatchNormalization(axis = -1)(hidden2)\n",
    "drop4 = keras.layers.Dropout(rate=0.2)(norm4)\n",
    "\n",
    "out = keras.layers.Dense(2, activation='sigmoid')(drop4)\n"
   ]
  },
  {
   "cell_type": "code",
   "execution_count": 11,
   "id": "8c1170a6",
   "metadata": {},
   "outputs": [
    {
     "name": "stdout",
     "output_type": "stream",
     "text": [
      "Model: \"model_2\"\n",
      "_________________________________________________________________\n",
      " Layer (type)                Output Shape              Param #   \n",
      "=================================================================\n",
      " input_1 (InputLayer)        [(None, 64, 64, 3)]       0         \n",
      "                                                                 \n",
      " conv2d_2 (Conv2D)           (None, 64, 64, 32)        896       \n",
      "                                                                 \n",
      " max_pooling2d_2 (MaxPooling  (None, 32, 32, 32)       0         \n",
      " 2D)                                                             \n",
      "                                                                 \n",
      " batch_normalization_4 (Batc  (None, 32, 32, 32)       128       \n",
      " hNormalization)                                                 \n",
      "                                                                 \n",
      " dropout_4 (Dropout)         (None, 32, 32, 32)        0         \n",
      "                                                                 \n",
      " conv2d_3 (Conv2D)           (None, 32, 32, 32)        9248      \n",
      "                                                                 \n",
      " max_pooling2d_3 (MaxPooling  (None, 16, 16, 32)       0         \n",
      " 2D)                                                             \n",
      "                                                                 \n",
      " batch_normalization_5 (Batc  (None, 16, 16, 32)       128       \n",
      " hNormalization)                                                 \n",
      "                                                                 \n",
      " dropout_5 (Dropout)         (None, 16, 16, 32)        0         \n",
      "                                                                 \n",
      " flatten_1 (Flatten)         (None, 8192)              0         \n",
      "                                                                 \n",
      " dense_3 (Dense)             (None, 512)               4194816   \n",
      "                                                                 \n",
      " batch_normalization_6 (Batc  (None, 512)              2048      \n",
      " hNormalization)                                                 \n",
      "                                                                 \n",
      " dropout_6 (Dropout)         (None, 512)               0         \n",
      "                                                                 \n",
      " dense_4 (Dense)             (None, 256)               131328    \n",
      "                                                                 \n",
      " batch_normalization_7 (Batc  (None, 256)              1024      \n",
      " hNormalization)                                                 \n",
      "                                                                 \n",
      " dropout_7 (Dropout)         (None, 256)               0         \n",
      "                                                                 \n",
      " dense_5 (Dense)             (None, 2)                 514       \n",
      "                                                                 \n",
      "=================================================================\n",
      "Total params: 4,340,130\n",
      "Trainable params: 4,338,466\n",
      "Non-trainable params: 1,664\n",
      "_________________________________________________________________\n",
      "None\n"
     ]
    }
   ],
   "source": [
    "model = keras.Model(inputs=inp, outputs=out)\n",
    "model.compile(optimizer='adam',\n",
    "             loss='categorical_crossentropy',\n",
    "             metrics=['accuracy'])\n",
    "print(model.summary())"
   ]
  },
  {
   "cell_type": "code",
   "execution_count": 37,
   "id": "25748a23",
   "metadata": {},
   "outputs": [],
   "source": [
    "from sklearn.model_selection import train_test_split\n",
    "from tensorflow.keras.utils import to_categorical\n",
    "\n",
    "X_train,X_test,y_train,y_test = train_test_split(dataset, to_categorical(np.array(label)), \n",
    "                                                test_size = 0.20, random_state = 0)  "
   ]
  },
  {
   "cell_type": "code",
   "execution_count": 39,
   "id": "f8fbdac3",
   "metadata": {},
   "outputs": [],
   "source": [
    "from keras.callbacks import ModelCheckpoint, EarlyStopping\n",
    "\n",
    "#to prevent overfitting\n",
    "es = EarlyStopping(monitor=\"val_accuracy\", min_delta=0.01, patience= 3, verbose = 1, mode = 'auto')\n",
    "\n",
    "mcp = ModelCheckpoint(monitor=\"val_accuracy\", filepath=\"E:\\datasets/malaria_model2.h5\",verbose= 1, save_best_only=True , mode = 'auto')\n",
    "\n",
    "x = [es,mcp]"
   ]
  },
  {
   "cell_type": "code",
   "execution_count": 41,
   "id": "68b5dddb",
   "metadata": {},
   "outputs": [
    {
     "name": "stdout",
     "output_type": "stream",
     "text": [
      "Epoch 1/25\n",
      "36/36 [==============================] - ETA: 0s - loss: 0.0316 - accuracy: 0.9925\n",
      "Epoch 1: val_accuracy did not improve from 0.90040\n",
      "36/36 [==============================] - 17s 446ms/step - loss: 0.0316 - accuracy: 0.9925 - val_loss: 0.4262 - val_accuracy: 0.8884\n",
      "Epoch 2/25\n",
      "36/36 [==============================] - ETA: 0s - loss: 0.0215 - accuracy: 0.9938\n",
      "Epoch 2: val_accuracy did not improve from 0.90040\n",
      "36/36 [==============================] - 16s 416ms/step - loss: 0.0215 - accuracy: 0.9938 - val_loss: 0.4603 - val_accuracy: 0.8765\n",
      "Epoch 3/25\n",
      "36/36 [==============================] - ETA: 0s - loss: 0.0136 - accuracy: 0.9969\n",
      "Epoch 3: val_accuracy did not improve from 0.90040\n",
      "36/36 [==============================] - 14s 399ms/step - loss: 0.0136 - accuracy: 0.9969 - val_loss: 0.4765 - val_accuracy: 0.8765\n",
      "Epoch 4/25\n",
      "36/36 [==============================] - ETA: 0s - loss: 0.0123 - accuracy: 0.9978\n",
      "Epoch 4: val_accuracy did not improve from 0.90040\n",
      "36/36 [==============================] - 14s 397ms/step - loss: 0.0123 - accuracy: 0.9978 - val_loss: 0.3742 - val_accuracy: 0.9004\n",
      "Epoch 5/25\n",
      "36/36 [==============================] - ETA: 0s - loss: 0.0140 - accuracy: 0.9956\n",
      "Epoch 5: val_accuracy did not improve from 0.90040\n",
      "36/36 [==============================] - 14s 394ms/step - loss: 0.0140 - accuracy: 0.9956 - val_loss: 0.5095 - val_accuracy: 0.8845\n",
      "Epoch 6/25\n",
      "36/36 [==============================] - ETA: 0s - loss: 0.0171 - accuracy: 0.9964\n",
      "Epoch 6: val_accuracy did not improve from 0.90040\n",
      "36/36 [==============================] - 14s 392ms/step - loss: 0.0171 - accuracy: 0.9964 - val_loss: 0.4662 - val_accuracy: 0.9004\n",
      "Epoch 7/25\n",
      "36/36 [==============================] - ETA: 0s - loss: 0.0200 - accuracy: 0.9933\n",
      "Epoch 7: val_accuracy did not improve from 0.90040\n",
      "36/36 [==============================] - 14s 388ms/step - loss: 0.0200 - accuracy: 0.9933 - val_loss: 0.5611 - val_accuracy: 0.8725\n",
      "Epoch 7: early stopping\n"
     ]
    }
   ],
   "source": [
    "f = model.fit(\n",
    "    np.array(X_train),\n",
    "    y_train,\n",
    "    batch_size = 64,\n",
    "    verbose = 1,\n",
    "    epochs=25,\n",
    "    validation_split=0.1,\n",
    "    shuffle=False,\n",
    "    callbacks=x\n",
    ")"
   ]
  },
  {
   "cell_type": "code",
   "execution_count": 43,
   "id": "cfca2fdf",
   "metadata": {},
   "outputs": [
    {
     "name": "stdout",
     "output_type": "stream",
     "text": [
      "20/20 [==============================] - 2s 119ms/step - loss: 0.3162 - accuracy: 0.9281\n",
      "Test Accuracy: 92.81%\n"
     ]
    }
   ],
   "source": [
    "print(\"Test Accuracy: {:.2f}%\".format(model.evaluate(np.array(X_test), np.array(y_test))[1]*100))"
   ]
  },
  {
   "cell_type": "code",
   "execution_count": null,
   "id": "f7c0d87f",
   "metadata": {},
   "outputs": [],
   "source": []
  }
 ],
 "metadata": {
  "kernelspec": {
   "display_name": "Python 3 (ipykernel)",
   "language": "python",
   "name": "python3"
  },
  "language_info": {
   "codemirror_mode": {
    "name": "ipython",
    "version": 3
   },
   "file_extension": ".py",
   "mimetype": "text/x-python",
   "name": "python",
   "nbconvert_exporter": "python",
   "pygments_lexer": "ipython3",
   "version": "3.9.7"
  }
 },
 "nbformat": 4,
 "nbformat_minor": 5
}
